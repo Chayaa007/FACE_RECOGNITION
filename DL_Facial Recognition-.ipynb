{
 "cells": [
  {
   "cell_type": "code",
   "execution_count": 1,
   "id": "cb6bd15a",
   "metadata": {},
   "outputs": [],
   "source": [
    "#specifying the folder where images are present"
   ]
  },
  {
   "cell_type": "code",
   "execution_count": 2,
   "id": "8323cbe5",
   "metadata": {},
   "outputs": [],
   "source": [
    "TrainingImagePath =\"C:\\\\Users\\\\sharath\\\\Desktop\\\\analysis\\\\DEEP LEARNING\\\\CNN\\\\Class_expt\\\\train_29\""
   ]
  },
  {
   "cell_type": "code",
   "execution_count": 3,
   "id": "da596b09",
   "metadata": {},
   "outputs": [],
   "source": [
    "ValidationImagePath =\"C:\\\\Users\\\\sharath\\\\Desktop\\\\analysis\\\\DEEP LEARNING\\\\CNN\\\\Class_expt\\\\test_29\""
   ]
  },
  {
   "cell_type": "code",
   "execution_count": 4,
   "id": "f1f44baa",
   "metadata": {},
   "outputs": [],
   "source": [
    "from tensorflow import keras"
   ]
  },
  {
   "cell_type": "code",
   "execution_count": 5,
   "id": "0b3a86e5",
   "metadata": {},
   "outputs": [],
   "source": [
    "from keras.preprocessing.image import ImageDataGenerator"
   ]
  },
  {
   "cell_type": "code",
   "execution_count": 6,
   "id": "093f4fd0",
   "metadata": {},
   "outputs": [],
   "source": [
    "#base model"
   ]
  },
  {
   "cell_type": "code",
   "execution_count": 7,
   "id": "13be2a8a",
   "metadata": {},
   "outputs": [],
   "source": [
    "train_datagen = ImageDataGenerator(rescale = 1./255)"
   ]
  },
  {
   "cell_type": "code",
   "execution_count": 8,
   "id": "2c1a367d",
   "metadata": {},
   "outputs": [],
   "source": [
    "test_datagen = ImageDataGenerator(rescale = 1./255)"
   ]
  },
  {
   "cell_type": "code",
   "execution_count": 9,
   "id": "b3ee156d",
   "metadata": {},
   "outputs": [],
   "source": [
    "#Generating the training data"
   ]
  },
  {
   "cell_type": "code",
   "execution_count": 10,
   "id": "dfa42c58",
   "metadata": {},
   "outputs": [
    {
     "name": "stdout",
     "output_type": "stream",
     "text": [
      "Found 136 images belonging to 17 classes.\n"
     ]
    }
   ],
   "source": [
    "training_set = train_datagen.flow_from_directory(TrainingImagePath,\n",
    "                                                target_size = (64,64),\n",
    "                                                batch_size = 20,\n",
    "                                                class_mode = 'categorical')"
   ]
  },
  {
   "cell_type": "markdown",
   "id": "2c15810a",
   "metadata": {},
   "source": [
    "# Validation set"
   ]
  },
  {
   "cell_type": "code",
   "execution_count": 11,
   "id": "fd5caa5e",
   "metadata": {},
   "outputs": [],
   "source": [
    "#Generating the validation data"
   ]
  },
  {
   "cell_type": "code",
   "execution_count": 12,
   "id": "3cc075fc",
   "metadata": {},
   "outputs": [
    {
     "name": "stdout",
     "output_type": "stream",
     "text": [
      "Found 34 images belonging to 17 classes.\n"
     ]
    }
   ],
   "source": [
    "validation_set = test_datagen.flow_from_directory(ValidationImagePath,\n",
    "                                                target_size = (64,64),\n",
    "                                                batch_size = 20,\n",
    "                                                class_mode = 'categorical')"
   ]
  },
  {
   "cell_type": "code",
   "execution_count": 13,
   "id": "2449158c",
   "metadata": {},
   "outputs": [],
   "source": [
    "# Libraries and model type"
   ]
  },
  {
   "cell_type": "code",
   "execution_count": 14,
   "id": "1876bc63",
   "metadata": {},
   "outputs": [],
   "source": [
    "# Create CNN Deep learning model"
   ]
  },
  {
   "cell_type": "code",
   "execution_count": 15,
   "id": "ece0fe30",
   "metadata": {},
   "outputs": [],
   "source": [
    "from keras.models import Sequential\n",
    "from keras.layers import Convolution2D\n",
    "from keras.layers import MaxPool2D\n",
    "from keras.layers import Flatten\n",
    "from keras.layers import Dense"
   ]
  },
  {
   "cell_type": "code",
   "execution_count": 16,
   "id": "8e020c1c",
   "metadata": {},
   "outputs": [],
   "source": [
    "# Initializing the Convolutional Neural Network"
   ]
  },
  {
   "cell_type": "code",
   "execution_count": 17,
   "id": "2fff8cc7",
   "metadata": {},
   "outputs": [],
   "source": [
    "classifier = Sequential()"
   ]
  },
  {
   "cell_type": "markdown",
   "id": "4cfe1d78",
   "metadata": {},
   "source": [
    "# MODEL"
   ]
  },
  {
   "cell_type": "code",
   "execution_count": 18,
   "id": "8492de9e",
   "metadata": {},
   "outputs": [],
   "source": [
    "# STEP 1 Convolution\n",
    "# Adding th e first layer of CNN\n",
    "# We are using the format (64,64,3) because we are using Tensorflow backend\n",
    "# It means 3 matrix of size (64x64) pixels representing Red, Green and Blue components of pixels"
   ]
  },
  {
   "cell_type": "code",
   "execution_count": 19,
   "id": "32963cf9",
   "metadata": {},
   "outputs": [],
   "source": [
    "classifier.add(Convolution2D(32, kernel_size=(3,3),\n",
    "                            input_shape=(64,64,3), activation ='relu'))"
   ]
  },
  {
   "cell_type": "code",
   "execution_count": 20,
   "id": "d839be54",
   "metadata": {},
   "outputs": [],
   "source": [
    "#STEP 2- Max Pooling"
   ]
  },
  {
   "cell_type": "code",
   "execution_count": 21,
   "id": "89846aab",
   "metadata": {},
   "outputs": [],
   "source": [
    "classifier.add(MaxPool2D(pool_size=(2,2)))"
   ]
  },
  {
   "cell_type": "code",
   "execution_count": 22,
   "id": "2b18d1c4",
   "metadata": {},
   "outputs": [],
   "source": [
    "# Additional layer of convolution for better accuracy"
   ]
  },
  {
   "cell_type": "code",
   "execution_count": 23,
   "id": "1170bde1",
   "metadata": {},
   "outputs": [],
   "source": [
    "classifier.add(Convolution2D(64, kernel_size=(3,3), activation='relu'))"
   ]
  },
  {
   "cell_type": "code",
   "execution_count": 24,
   "id": "26797a27",
   "metadata": {},
   "outputs": [],
   "source": [
    "classifier.add(MaxPool2D(pool_size=(2,2)))"
   ]
  },
  {
   "cell_type": "code",
   "execution_count": 25,
   "id": "31e1c251",
   "metadata": {},
   "outputs": [],
   "source": [
    "#STEP 3- Flattening"
   ]
  },
  {
   "cell_type": "code",
   "execution_count": 26,
   "id": "abef6142",
   "metadata": {},
   "outputs": [],
   "source": [
    "classifier.add(Flatten())"
   ]
  },
  {
   "cell_type": "code",
   "execution_count": 27,
   "id": "d2e9867d",
   "metadata": {},
   "outputs": [],
   "source": [
    "#STEP 4 - Fully connected neural network"
   ]
  },
  {
   "cell_type": "code",
   "execution_count": 28,
   "id": "5bc26754",
   "metadata": {},
   "outputs": [],
   "source": [
    "classifier.add(Dense(64, activation='relu'))"
   ]
  },
  {
   "cell_type": "code",
   "execution_count": 29,
   "id": "ab05d9c6",
   "metadata": {},
   "outputs": [],
   "source": [
    "classifier.add(Dense(17, activation='softmax'))"
   ]
  },
  {
   "cell_type": "code",
   "execution_count": 30,
   "id": "1521fca7",
   "metadata": {},
   "outputs": [
    {
     "name": "stdout",
     "output_type": "stream",
     "text": [
      "Model: \"sequential\"\n",
      "_________________________________________________________________\n",
      " Layer (type)                Output Shape              Param #   \n",
      "=================================================================\n",
      " conv2d (Conv2D)             (None, 62, 62, 32)        896       \n",
      "                                                                 \n",
      " max_pooling2d (MaxPooling2D  (None, 31, 31, 32)       0         \n",
      " )                                                               \n",
      "                                                                 \n",
      " conv2d_1 (Conv2D)           (None, 29, 29, 64)        18496     \n",
      "                                                                 \n",
      " max_pooling2d_1 (MaxPooling  (None, 14, 14, 64)       0         \n",
      " 2D)                                                             \n",
      "                                                                 \n",
      " flatten (Flatten)           (None, 12544)             0         \n",
      "                                                                 \n",
      " dense (Dense)               (None, 64)                802880    \n",
      "                                                                 \n",
      " dense_1 (Dense)             (None, 17)                1105      \n",
      "                                                                 \n",
      "=================================================================\n",
      "Total params: 823,377\n",
      "Trainable params: 823,377\n",
      "Non-trainable params: 0\n",
      "_________________________________________________________________\n"
     ]
    }
   ],
   "source": [
    "classifier.summary()"
   ]
  },
  {
   "cell_type": "markdown",
   "id": "aa3726de",
   "metadata": {},
   "source": [
    "# Compiler"
   ]
  },
  {
   "cell_type": "code",
   "execution_count": 31,
   "id": "b7cdf085",
   "metadata": {},
   "outputs": [],
   "source": [
    "# Compiling the CNN"
   ]
  },
  {
   "cell_type": "code",
   "execution_count": 32,
   "id": "21641481",
   "metadata": {},
   "outputs": [],
   "source": [
    "classifier.compile(loss='categorical_crossentropy',\n",
    "                  optimizer = 'adam', metrics =['accuracy'])"
   ]
  },
  {
   "cell_type": "markdown",
   "id": "e1a12966",
   "metadata": {},
   "source": [
    "# Execution of model"
   ]
  },
  {
   "cell_type": "code",
   "execution_count": 33,
   "id": "36a06941",
   "metadata": {},
   "outputs": [],
   "source": [
    "# Starting the model training"
   ]
  },
  {
   "cell_type": "code",
   "execution_count": 34,
   "id": "48f4fa72",
   "metadata": {},
   "outputs": [
    {
     "name": "stderr",
     "output_type": "stream",
     "text": [
      "C:\\Users\\sharath\\AppData\\Local\\Temp/ipykernel_20856/2354014473.py:1: UserWarning: `Model.fit_generator` is deprecated and will be removed in a future version. Please use `Model.fit`, which supports generators.\n",
      "  history = classifier.fit_generator(training_set, epochs =20,\n"
     ]
    },
    {
     "name": "stdout",
     "output_type": "stream",
     "text": [
      "Epoch 1/20\n",
      "7/7 [==============================] - 30s 4s/step - loss: 2.9353 - accuracy: 0.0441 - val_loss: 2.7829 - val_accuracy: 0.1765\n",
      "Epoch 2/20\n",
      "7/7 [==============================] - 19s 3s/step - loss: 2.6535 - accuracy: 0.4412 - val_loss: 2.6477 - val_accuracy: 0.2941\n",
      "Epoch 3/20\n",
      "7/7 [==============================] - 18s 3s/step - loss: 2.3466 - accuracy: 0.3676 - val_loss: 2.4879 - val_accuracy: 0.3235\n",
      "Epoch 4/20\n",
      "7/7 [==============================] - 19s 3s/step - loss: 1.7746 - accuracy: 0.6544 - val_loss: 2.2508 - val_accuracy: 0.4118\n",
      "Epoch 5/20\n",
      "7/7 [==============================] - 19s 3s/step - loss: 1.2167 - accuracy: 0.7279 - val_loss: 2.0031 - val_accuracy: 0.5000\n",
      "Epoch 6/20\n",
      "7/7 [==============================] - 20s 3s/step - loss: 0.7657 - accuracy: 0.8382 - val_loss: 1.8658 - val_accuracy: 0.5294\n",
      "Epoch 7/20\n",
      "7/7 [==============================] - 20s 3s/step - loss: 0.3814 - accuracy: 0.9338 - val_loss: 2.1672 - val_accuracy: 0.5000\n",
      "Epoch 8/20\n",
      "7/7 [==============================] - 20s 3s/step - loss: 0.2009 - accuracy: 0.9706 - val_loss: 2.3770 - val_accuracy: 0.5294\n",
      "Epoch 9/20\n",
      "7/7 [==============================] - 19s 3s/step - loss: 0.1309 - accuracy: 0.9853 - val_loss: 2.1208 - val_accuracy: 0.5588\n",
      "Epoch 10/20\n",
      "7/7 [==============================] - 20s 3s/step - loss: 0.0631 - accuracy: 0.9926 - val_loss: 2.4504 - val_accuracy: 0.5882\n",
      "Epoch 11/20\n",
      "7/7 [==============================] - 21s 3s/step - loss: 0.0470 - accuracy: 0.9853 - val_loss: 2.7551 - val_accuracy: 0.5882\n",
      "Epoch 12/20\n",
      "7/7 [==============================] - 19s 3s/step - loss: 0.0439 - accuracy: 0.9926 - val_loss: 2.2048 - val_accuracy: 0.5588\n",
      "Epoch 13/20\n",
      "7/7 [==============================] - 20s 3s/step - loss: 0.0338 - accuracy: 0.9926 - val_loss: 2.3775 - val_accuracy: 0.5882\n",
      "Epoch 14/20\n",
      "7/7 [==============================] - 20s 3s/step - loss: 0.0185 - accuracy: 1.0000 - val_loss: 2.0353 - val_accuracy: 0.5588\n",
      "Epoch 15/20\n",
      "7/7 [==============================] - 20s 3s/step - loss: 0.0140 - accuracy: 1.0000 - val_loss: 2.2123 - val_accuracy: 0.5882\n",
      "Epoch 16/20\n",
      "7/7 [==============================] - 19s 3s/step - loss: 0.0078 - accuracy: 1.0000 - val_loss: 2.5836 - val_accuracy: 0.5882\n",
      "Epoch 17/20\n",
      "7/7 [==============================] - 19s 3s/step - loss: 0.0055 - accuracy: 1.0000 - val_loss: 2.2801 - val_accuracy: 0.5882\n",
      "Epoch 18/20\n",
      "7/7 [==============================] - 18s 3s/step - loss: 0.0036 - accuracy: 1.0000 - val_loss: 2.2408 - val_accuracy: 0.5882\n",
      "Epoch 19/20\n",
      "7/7 [==============================] - 17s 3s/step - loss: 0.0030 - accuracy: 1.0000 - val_loss: 2.2435 - val_accuracy: 0.5882\n",
      "Epoch 20/20\n",
      "7/7 [==============================] - 18s 3s/step - loss: 0.0025 - accuracy: 1.0000 - val_loss: 2.2755 - val_accuracy: 0.5882\n"
     ]
    }
   ],
   "source": [
    "history = classifier.fit_generator(training_set, epochs =20,\n",
    "                                  validation_data=validation_set)"
   ]
  },
  {
   "cell_type": "markdown",
   "id": "a667778a",
   "metadata": {},
   "source": [
    "# Accuracy base model"
   ]
  },
  {
   "cell_type": "code",
   "execution_count": 35,
   "id": "da29d502",
   "metadata": {},
   "outputs": [],
   "source": [
    "#Displaying curves of loss and accuracy during training"
   ]
  },
  {
   "cell_type": "code",
   "execution_count": 36,
   "id": "6a3b388c",
   "metadata": {},
   "outputs": [],
   "source": [
    "import matplotlib.pyplot as plt"
   ]
  },
  {
   "cell_type": "code",
   "execution_count": 37,
   "id": "a2f54536",
   "metadata": {},
   "outputs": [],
   "source": [
    "acc = history.history['accuracy']"
   ]
  },
  {
   "cell_type": "code",
   "execution_count": 38,
   "id": "4d3c58b8",
   "metadata": {},
   "outputs": [],
   "source": [
    "val_acc = history.history['val_accuracy']"
   ]
  },
  {
   "cell_type": "code",
   "execution_count": 39,
   "id": "c4eade01",
   "metadata": {},
   "outputs": [],
   "source": [
    "loss = history.history['loss']"
   ]
  },
  {
   "cell_type": "code",
   "execution_count": 40,
   "id": "e04e4857",
   "metadata": {},
   "outputs": [],
   "source": [
    "val_loss = history.history['val_loss']"
   ]
  },
  {
   "cell_type": "code",
   "execution_count": 41,
   "id": "30d0b84f",
   "metadata": {},
   "outputs": [],
   "source": [
    "epochs = range(1, len(acc) + 1)"
   ]
  },
  {
   "cell_type": "code",
   "execution_count": 42,
   "id": "7002cc49",
   "metadata": {},
   "outputs": [
    {
     "data": {
      "text/plain": [
       "<Figure size 432x288 with 0 Axes>"
      ]
     },
     "execution_count": 42,
     "metadata": {},
     "output_type": "execute_result"
    },
    {
     "data": {
      "image/png": "[encoded data removed]",
      "text/plain": [
       "<Figure size 432x288 with 1 Axes>"
      ]
     },
     "metadata": {
      "needs_background": "light"
     },
     "output_type": "display_data"
    },
    {
     "data": {
      "text/plain": [
       "<Figure size 432x288 with 0 Axes>"
      ]
     },
     "metadata": {},
     "output_type": "display_data"
    }
   ],
   "source": [
    "plt.plot(epochs, acc, 'bo', label='Training acc')\n",
    "plt.plot(epochs, val_acc, 'r', label='Validation acc')\n",
    "plt.title('Training and validation accuracy')\n",
    "plt.legend()\n",
    "plt.figure()"
   ]
  },
  {
   "cell_type": "markdown",
   "id": "e204e892",
   "metadata": {},
   "source": [
    "# Loss base model"
   ]
  },
  {
   "cell_type": "code",
   "execution_count": 43,
   "id": "11e1d8e3",
   "metadata": {},
   "outputs": [
    {
     "data": {
      "text/plain": [
       "<Figure size 432x288 with 0 Axes>"
      ]
     },
     "execution_count": 43,
     "metadata": {},
     "output_type": "execute_result"
    },
    {
     "data": {
      "image/png": "[encoded data removed]",
      "text/plain": [
       "<Figure size 432x288 with 1 Axes>"
      ]
     },
     "metadata": {
      "needs_background": "light"
     },
     "output_type": "display_data"
    },
    {
     "data": {
      "text/plain": [
       "<Figure size 432x288 with 0 Axes>"
      ]
     },
     "metadata": {},
     "output_type": "display_data"
    }
   ],
   "source": [
    "plt.plot(epochs, loss, 'bo', label='Training loss')\n",
    "plt.plot(epochs, val_loss, 'r', label='Validation loss')\n",
    "plt.title('Training and validation loss')\n",
    "plt.legend()\n",
    "plt.figure()"
   ]
  },
  {
   "cell_type": "code",
   "execution_count": 44,
   "id": "e42e2f8e",
   "metadata": {},
   "outputs": [],
   "source": [
    "# Lets improve"
   ]
  },
  {
   "cell_type": "code",
   "execution_count": 45,
   "id": "938e7633",
   "metadata": {},
   "outputs": [],
   "source": [
    "# Model 2"
   ]
  },
  {
   "cell_type": "code",
   "execution_count": 46,
   "id": "d36a13e2",
   "metadata": {},
   "outputs": [],
   "source": [
    "# Adding parameters in the ImageDatagenerator"
   ]
  },
  {
   "cell_type": "code",
   "execution_count": 47,
   "id": "b327fbe6",
   "metadata": {},
   "outputs": [],
   "source": [
    "train_datagen = ImageDataGenerator(rescale=1./255, shear_range=0.5,\n",
    "                                  zoom_range=0.5, width_shift_range=0.2,\n",
    "                                  height_shift_range=0.2)"
   ]
  },
  {
   "cell_type": "code",
   "execution_count": 48,
   "id": "1cc4e1de",
   "metadata": {},
   "outputs": [],
   "source": [
    "# No transformations are done on the testing images"
   ]
  },
  {
   "cell_type": "code",
   "execution_count": 49,
   "id": "c95e3a4b",
   "metadata": {},
   "outputs": [],
   "source": [
    "test_datgen = ImageDataGenerator(rescale=1./255)"
   ]
  },
  {
   "cell_type": "code",
   "execution_count": 50,
   "id": "7a842909",
   "metadata": {},
   "outputs": [],
   "source": [
    "# Generating the training data"
   ]
  },
  {
   "cell_type": "code",
   "execution_count": 51,
   "id": "e4eec759",
   "metadata": {},
   "outputs": [
    {
     "name": "stdout",
     "output_type": "stream",
     "text": [
      "Found 136 images belonging to 17 classes.\n"
     ]
    }
   ],
   "source": [
    "training_set = train_datagen.flow_from_directory(TrainingImagePath,\n",
    "                                                target_size=(64,64),\n",
    "                                                batch_size=20,\n",
    "                                                class_mode='categorical')"
   ]
  },
  {
   "cell_type": "code",
   "execution_count": 52,
   "id": "31d3f981",
   "metadata": {},
   "outputs": [],
   "source": [
    "# Generating the validation data"
   ]
  },
  {
   "cell_type": "code",
   "execution_count": 53,
   "id": "2ac9a009",
   "metadata": {},
   "outputs": [
    {
     "name": "stdout",
     "output_type": "stream",
     "text": [
      "Found 34 images belonging to 17 classes.\n"
     ]
    }
   ],
   "source": [
    "validation_set = test_datagen.flow_from_directory(ValidationImagePath,\n",
    "                                                target_size=(64,64),\n",
    "                                                batch_size=20,\n",
    "                                                class_mode='categorical')"
   ]
  },
  {
   "cell_type": "code",
   "execution_count": 54,
   "id": "419ed527",
   "metadata": {},
   "outputs": [],
   "source": [
    "#Create Cnn deep learning model"
   ]
  },
  {
   "cell_type": "code",
   "execution_count": 55,
   "id": "dd2270d6",
   "metadata": {},
   "outputs": [],
   "source": [
    "from keras.models import Sequential\n",
    "from keras.layers import Convolution2D\n",
    "from keras.layers import MaxPool2D\n",
    "from keras.layers import Flatten\n",
    "from keras.layers import Dense"
   ]
  },
  {
   "cell_type": "code",
   "execution_count": 56,
   "id": "e7991c5a",
   "metadata": {},
   "outputs": [],
   "source": [
    "# Initializing the Convolutional Neural Network"
   ]
  },
  {
   "cell_type": "code",
   "execution_count": 57,
   "id": "b35b1bd3",
   "metadata": {},
   "outputs": [],
   "source": [
    "classifier = Sequential()"
   ]
  },
  {
   "cell_type": "code",
   "execution_count": 58,
   "id": "675de677",
   "metadata": {},
   "outputs": [],
   "source": [
    "# Convolution"
   ]
  },
  {
   "cell_type": "code",
   "execution_count": 59,
   "id": "41ea7190",
   "metadata": {},
   "outputs": [],
   "source": [
    "classifier.add(Convolution2D(32, kernel_size=(3,3),\n",
    "                            input_shape=(64,64,3), activation ='relu'))"
   ]
  },
  {
   "cell_type": "code",
   "execution_count": 60,
   "id": "67ccb2d7",
   "metadata": {},
   "outputs": [],
   "source": [
    "#Max Pooling"
   ]
  },
  {
   "cell_type": "code",
   "execution_count": 61,
   "id": "4274ae60",
   "metadata": {},
   "outputs": [],
   "source": [
    "classifier.add(MaxPool2D(pool_size=(2,2)))"
   ]
  },
  {
   "cell_type": "code",
   "execution_count": 62,
   "id": "09ee17bb",
   "metadata": {},
   "outputs": [],
   "source": [
    "# Additional layer of convolution for better accuracy"
   ]
  },
  {
   "cell_type": "code",
   "execution_count": 63,
   "id": "59700aaf",
   "metadata": {},
   "outputs": [],
   "source": [
    "classifier.add(Convolution2D(64, kernel_size=(3,3), activation='relu'))"
   ]
  },
  {
   "cell_type": "code",
   "execution_count": 64,
   "id": "6a26d79a",
   "metadata": {},
   "outputs": [],
   "source": [
    "classifier.add(MaxPool2D(pool_size=(2,2)))"
   ]
  },
  {
   "cell_type": "code",
   "execution_count": 65,
   "id": "63e421f6",
   "metadata": {},
   "outputs": [],
   "source": [
    "#Flattening"
   ]
  },
  {
   "cell_type": "code",
   "execution_count": 66,
   "id": "ee3eb2d6",
   "metadata": {},
   "outputs": [],
   "source": [
    "classifier.add(Flatten())"
   ]
  },
  {
   "cell_type": "code",
   "execution_count": 67,
   "id": "521c5572",
   "metadata": {},
   "outputs": [],
   "source": [
    "#Fully connected neural network"
   ]
  },
  {
   "cell_type": "code",
   "execution_count": 68,
   "id": "4b484240",
   "metadata": {},
   "outputs": [],
   "source": [
    "classifier.add(Dense(64, activation='relu'))#hidden layer"
   ]
  },
  {
   "cell_type": "code",
   "execution_count": 69,
   "id": "9c0df7bb",
   "metadata": {},
   "outputs": [],
   "source": [
    "classifier.add(Dense(17, activation='softmax'))#output layer"
   ]
  },
  {
   "cell_type": "code",
   "execution_count": 70,
   "id": "2a29ce4b",
   "metadata": {},
   "outputs": [
    {
     "name": "stdout",
     "output_type": "stream",
     "text": [
      "Model: \"sequential_1\"\n",
      "_________________________________________________________________\n",
      " Layer (type)                Output Shape              Param #   \n",
      "=================================================================\n",
      " conv2d_2 (Conv2D)           (None, 62, 62, 32)        896       \n",
      "                                                                 \n",
      " max_pooling2d_2 (MaxPooling  (None, 31, 31, 32)       0         \n",
      " 2D)                                                             \n",
      "                                                                 \n",
      " conv2d_3 (Conv2D)           (None, 29, 29, 64)        18496     \n",
      "                                                                 \n",
      " max_pooling2d_3 (MaxPooling  (None, 14, 14, 64)       0         \n",
      " 2D)                                                             \n",
      "                                                                 \n",
      " flatten_1 (Flatten)         (None, 12544)             0         \n",
      "                                                                 \n",
      " dense_2 (Dense)             (None, 64)                802880    \n",
      "                                                                 \n",
      " dense_3 (Dense)             (None, 17)                1105      \n",
      "                                                                 \n",
      "=================================================================\n",
      "Total params: 823,377\n",
      "Trainable params: 823,377\n",
      "Non-trainable params: 0\n",
      "_________________________________________________________________\n"
     ]
    }
   ],
   "source": [
    "classifier.summary()"
   ]
  },
  {
   "cell_type": "code",
   "execution_count": 71,
   "id": "10684d06",
   "metadata": {},
   "outputs": [],
   "source": [
    "#Compiler"
   ]
  },
  {
   "cell_type": "code",
   "execution_count": 72,
   "id": "cc589088",
   "metadata": {},
   "outputs": [],
   "source": [
    "classifier.compile(loss='categorical_crossentropy',\n",
    "                  optimizer='adam', metrics=['accuracy'])"
   ]
  },
  {
   "cell_type": "code",
   "execution_count": 73,
   "id": "74654438",
   "metadata": {},
   "outputs": [],
   "source": [
    "#Execute"
   ]
  },
  {
   "cell_type": "code",
   "execution_count": 74,
   "id": "e2cf2a98",
   "metadata": {},
   "outputs": [],
   "source": [
    "#Starting the model training"
   ]
  },
  {
   "cell_type": "code",
   "execution_count": 75,
   "id": "76babdab",
   "metadata": {},
   "outputs": [
    {
     "name": "stderr",
     "output_type": "stream",
     "text": [
      "C:\\Users\\sharath\\AppData\\Local\\Temp/ipykernel_20856/346272482.py:1: UserWarning: `Model.fit_generator` is deprecated and will be removed in a future version. Please use `Model.fit`, which supports generators.\n",
      "  history = classifier.fit_generator(training_set, epochs =100,\n"
     ]
    },
    {
     "name": "stdout",
     "output_type": "stream",
     "text": [
      "Epoch 1/100\n",
      "7/7 [==============================] - 23s 3s/step - loss: 2.9263 - accuracy: 0.0368 - val_loss: 2.8018 - val_accuracy: 0.0882\n",
      "Epoch 2/100\n",
      "7/7 [==============================] - 17s 3s/step - loss: 2.7827 - accuracy: 0.1544 - val_loss: 2.7684 - val_accuracy: 0.0588\n",
      "Epoch 3/100\n",
      "7/7 [==============================] - 18s 3s/step - loss: 2.6951 - accuracy: 0.1691 - val_loss: 2.6841 - val_accuracy: 0.0882\n",
      "Epoch 4/100\n",
      "7/7 [==============================] - 18s 3s/step - loss: 2.5317 - accuracy: 0.2500 - val_loss: 2.6288 - val_accuracy: 0.1471\n",
      "Epoch 5/100\n",
      "7/7 [==============================] - 18s 3s/step - loss: 2.3311 - accuracy: 0.3750 - val_loss: 2.4897 - val_accuracy: 0.2353\n",
      "Epoch 6/100\n",
      "7/7 [==============================] - 18s 3s/step - loss: 2.1167 - accuracy: 0.3824 - val_loss: 2.3083 - val_accuracy: 0.3235\n",
      "Epoch 7/100\n",
      "7/7 [==============================] - 18s 3s/step - loss: 1.8724 - accuracy: 0.4412 - val_loss: 2.4284 - val_accuracy: 0.3235\n",
      "Epoch 8/100\n",
      "7/7 [==============================] - 18s 3s/step - loss: 1.8544 - accuracy: 0.5000 - val_loss: 2.3760 - val_accuracy: 0.2941\n",
      "Epoch 9/100\n",
      "7/7 [==============================] - 18s 3s/step - loss: 1.5464 - accuracy: 0.5147 - val_loss: 2.0299 - val_accuracy: 0.4706\n",
      "Epoch 10/100\n",
      "7/7 [==============================] - 18s 3s/step - loss: 1.4120 - accuracy: 0.5662 - val_loss: 2.1920 - val_accuracy: 0.5588\n",
      "Epoch 11/100\n",
      "7/7 [==============================] - 18s 3s/step - loss: 1.3097 - accuracy: 0.5809 - val_loss: 2.2626 - val_accuracy: 0.4412\n",
      "Epoch 12/100\n",
      "7/7 [==============================] - 18s 3s/step - loss: 1.1153 - accuracy: 0.6838 - val_loss: 2.1402 - val_accuracy: 0.5588\n",
      "Epoch 13/100\n",
      "7/7 [==============================] - 18s 3s/step - loss: 1.1200 - accuracy: 0.6471 - val_loss: 2.4172 - val_accuracy: 0.5588\n",
      "Epoch 14/100\n",
      "7/7 [==============================] - 18s 3s/step - loss: 1.1403 - accuracy: 0.6176 - val_loss: 2.5376 - val_accuracy: 0.4412\n",
      "Epoch 15/100\n",
      "7/7 [==============================] - 18s 3s/step - loss: 1.0763 - accuracy: 0.6691 - val_loss: 2.2433 - val_accuracy: 0.5882\n",
      "Epoch 16/100\n",
      "7/7 [==============================] - 18s 3s/step - loss: 0.8953 - accuracy: 0.7353 - val_loss: 2.6447 - val_accuracy: 0.5882\n",
      "Epoch 17/100\n",
      "7/7 [==============================] - 18s 3s/step - loss: 0.8119 - accuracy: 0.7426 - val_loss: 2.5162 - val_accuracy: 0.5882\n",
      "Epoch 18/100\n",
      "7/7 [==============================] - 18s 3s/step - loss: 0.9607 - accuracy: 0.7132 - val_loss: 2.8698 - val_accuracy: 0.5000\n",
      "Epoch 19/100\n",
      "7/7 [==============================] - 18s 3s/step - loss: 0.8419 - accuracy: 0.7279 - val_loss: 2.7914 - val_accuracy: 0.6471\n",
      "Epoch 20/100\n",
      "7/7 [==============================] - 18s 3s/step - loss: 0.6771 - accuracy: 0.7500 - val_loss: 2.9251 - val_accuracy: 0.5588\n",
      "Epoch 21/100\n",
      "7/7 [==============================] - 18s 3s/step - loss: 0.6588 - accuracy: 0.8162 - val_loss: 2.6724 - val_accuracy: 0.6176\n",
      "Epoch 22/100\n",
      "7/7 [==============================] - 19s 3s/step - loss: 0.7903 - accuracy: 0.7353 - val_loss: 3.5455 - val_accuracy: 0.6176\n",
      "Epoch 23/100\n",
      "7/7 [==============================] - 19s 3s/step - loss: 0.7033 - accuracy: 0.7721 - val_loss: 2.7505 - val_accuracy: 0.6176\n",
      "Epoch 24/100\n",
      "7/7 [==============================] - 19s 3s/step - loss: 0.7756 - accuracy: 0.7647 - val_loss: 3.1732 - val_accuracy: 0.6471\n",
      "Epoch 25/100\n",
      "7/7 [==============================] - 19s 3s/step - loss: 0.7061 - accuracy: 0.7574 - val_loss: 3.0974 - val_accuracy: 0.6176\n",
      "Epoch 26/100\n",
      "7/7 [==============================] - 19s 3s/step - loss: 0.7324 - accuracy: 0.7647 - val_loss: 2.9874 - val_accuracy: 0.6471\n",
      "Epoch 27/100\n",
      "7/7 [==============================] - 19s 3s/step - loss: 0.6758 - accuracy: 0.7279 - val_loss: 2.7756 - val_accuracy: 0.6471\n",
      "Epoch 28/100\n",
      "7/7 [==============================] - 19s 3s/step - loss: 0.5143 - accuracy: 0.8235 - val_loss: 3.2874 - val_accuracy: 0.6471\n",
      "Epoch 29/100\n",
      "7/7 [==============================] - 19s 3s/step - loss: 0.4059 - accuracy: 0.8971 - val_loss: 2.9668 - val_accuracy: 0.6471\n",
      "Epoch 30/100\n",
      "7/7 [==============================] - 19s 3s/step - loss: 0.5059 - accuracy: 0.7868 - val_loss: 4.0390 - val_accuracy: 0.5000\n",
      "Epoch 31/100\n",
      "7/7 [==============================] - 19s 3s/step - loss: 0.7149 - accuracy: 0.7721 - val_loss: 2.6988 - val_accuracy: 0.5882\n",
      "Epoch 32/100\n",
      "7/7 [==============================] - 19s 3s/step - loss: 0.5669 - accuracy: 0.7868 - val_loss: 3.3711 - val_accuracy: 0.6176\n",
      "Epoch 33/100\n",
      "7/7 [==============================] - 19s 3s/step - loss: 0.5778 - accuracy: 0.8088 - val_loss: 3.2485 - val_accuracy: 0.6471\n",
      "Epoch 34/100\n",
      "7/7 [==============================] - 18s 3s/step - loss: 0.4268 - accuracy: 0.8824 - val_loss: 4.3828 - val_accuracy: 0.5882\n",
      "Epoch 35/100\n",
      "7/7 [==============================] - 18s 3s/step - loss: 0.4516 - accuracy: 0.8824 - val_loss: 3.2249 - val_accuracy: 0.6176\n",
      "Epoch 36/100\n",
      "7/7 [==============================] - 19s 3s/step - loss: 0.5215 - accuracy: 0.8235 - val_loss: 3.0952 - val_accuracy: 0.6471\n",
      "Epoch 37/100\n",
      "7/7 [==============================] - 18s 3s/step - loss: 0.5114 - accuracy: 0.8309 - val_loss: 3.8009 - val_accuracy: 0.6176\n",
      "Epoch 38/100\n",
      "7/7 [==============================] - 19s 3s/step - loss: 0.3683 - accuracy: 0.8750 - val_loss: 3.2467 - val_accuracy: 0.6471\n",
      "Epoch 39/100\n",
      "7/7 [==============================] - 19s 3s/step - loss: 0.3897 - accuracy: 0.8750 - val_loss: 3.7205 - val_accuracy: 0.5882\n",
      "Epoch 40/100\n",
      "7/7 [==============================] - 19s 3s/step - loss: 0.4142 - accuracy: 0.8309 - val_loss: 3.4244 - val_accuracy: 0.6471\n",
      "Epoch 41/100\n",
      "7/7 [==============================] - 19s 3s/step - loss: 0.2995 - accuracy: 0.9265 - val_loss: 4.1153 - val_accuracy: 0.6471\n",
      "Epoch 42/100\n",
      "7/7 [==============================] - 19s 3s/step - loss: 0.3732 - accuracy: 0.8603 - val_loss: 3.7675 - val_accuracy: 0.6471\n",
      "Epoch 43/100\n",
      "7/7 [==============================] - 19s 3s/step - loss: 0.4595 - accuracy: 0.8750 - val_loss: 3.8377 - val_accuracy: 0.6471\n",
      "Epoch 44/100\n",
      "7/7 [==============================] - 19s 3s/step - loss: 0.2692 - accuracy: 0.8971 - val_loss: 3.3697 - val_accuracy: 0.6471\n",
      "Epoch 45/100\n",
      "7/7 [==============================] - 19s 3s/step - loss: 0.3189 - accuracy: 0.8971 - val_loss: 4.1254 - val_accuracy: 0.6176\n",
      "Epoch 46/100\n",
      "7/7 [==============================] - 19s 3s/step - loss: 0.3851 - accuracy: 0.8676 - val_loss: 4.3650 - val_accuracy: 0.6471\n",
      "Epoch 47/100\n",
      "7/7 [==============================] - 19s 3s/step - loss: 0.3178 - accuracy: 0.9338 - val_loss: 3.5083 - val_accuracy: 0.6471\n",
      "Epoch 48/100\n",
      "7/7 [==============================] - 19s 3s/step - loss: 0.3266 - accuracy: 0.8750 - val_loss: 3.5676 - val_accuracy: 0.6471\n",
      "Epoch 49/100\n",
      "7/7 [==============================] - 19s 3s/step - loss: 0.3354 - accuracy: 0.8971 - val_loss: 4.3253 - val_accuracy: 0.6471\n",
      "Epoch 50/100\n",
      "7/7 [==============================] - 19s 3s/step - loss: 0.3136 - accuracy: 0.8824 - val_loss: 3.8290 - val_accuracy: 0.6176\n",
      "Epoch 51/100\n",
      "7/7 [==============================] - 19s 3s/step - loss: 0.3968 - accuracy: 0.8824 - val_loss: 3.3712 - val_accuracy: 0.6471\n",
      "Epoch 52/100\n",
      "7/7 [==============================] - 19s 3s/step - loss: 0.2870 - accuracy: 0.9265 - val_loss: 4.5233 - val_accuracy: 0.6471\n",
      "Epoch 53/100\n",
      "7/7 [==============================] - 19s 3s/step - loss: 0.3697 - accuracy: 0.8897 - val_loss: 4.1853 - val_accuracy: 0.6471\n",
      "Epoch 54/100\n",
      "7/7 [==============================] - 19s 3s/step - loss: 0.2607 - accuracy: 0.9044 - val_loss: 4.1279 - val_accuracy: 0.6471\n",
      "Epoch 55/100\n",
      "7/7 [==============================] - 18s 3s/step - loss: 0.2844 - accuracy: 0.9044 - val_loss: 4.7031 - val_accuracy: 0.6176\n",
      "Epoch 56/100\n",
      "7/7 [==============================] - 18s 3s/step - loss: 0.3347 - accuracy: 0.9118 - val_loss: 3.7679 - val_accuracy: 0.6471\n",
      "Epoch 57/100\n",
      "7/7 [==============================] - 19s 3s/step - loss: 0.3520 - accuracy: 0.8971 - val_loss: 3.9877 - val_accuracy: 0.6471\n",
      "Epoch 58/100\n",
      "7/7 [==============================] - 22s 3s/step - loss: 0.2521 - accuracy: 0.8971 - val_loss: 3.9257 - val_accuracy: 0.6471\n",
      "Epoch 59/100\n"
     ]
    },
    {
     "name": "stdout",
     "output_type": "stream",
     "text": [
      "7/7 [==============================] - 20s 3s/step - loss: 0.2217 - accuracy: 0.9265 - val_loss: 4.2067 - val_accuracy: 0.6471\n",
      "Epoch 60/100\n",
      "7/7 [==============================] - 21s 3s/step - loss: 0.2819 - accuracy: 0.9191 - val_loss: 4.1701 - val_accuracy: 0.6471\n",
      "Epoch 61/100\n",
      "7/7 [==============================] - 21s 3s/step - loss: 0.1968 - accuracy: 0.9485 - val_loss: 4.3630 - val_accuracy: 0.6471\n",
      "Epoch 62/100\n",
      "7/7 [==============================] - 19s 3s/step - loss: 0.2025 - accuracy: 0.9412 - val_loss: 4.5279 - val_accuracy: 0.6471\n",
      "Epoch 63/100\n",
      "7/7 [==============================] - 20s 3s/step - loss: 0.2523 - accuracy: 0.8971 - val_loss: 4.2784 - val_accuracy: 0.6176\n",
      "Epoch 64/100\n",
      "7/7 [==============================] - 19s 3s/step - loss: 0.2509 - accuracy: 0.9118 - val_loss: 4.1545 - val_accuracy: 0.6471\n",
      "Epoch 65/100\n",
      "7/7 [==============================] - 20s 3s/step - loss: 0.2502 - accuracy: 0.9191 - val_loss: 4.8141 - val_accuracy: 0.6471\n",
      "Epoch 66/100\n",
      "7/7 [==============================] - 19s 3s/step - loss: 0.3137 - accuracy: 0.8897 - val_loss: 4.6820 - val_accuracy: 0.5588\n",
      "Epoch 67/100\n",
      "7/7 [==============================] - 20s 3s/step - loss: 0.2866 - accuracy: 0.9191 - val_loss: 4.5884 - val_accuracy: 0.6471\n",
      "Epoch 68/100\n",
      "7/7 [==============================] - 24s 3s/step - loss: 0.2652 - accuracy: 0.9265 - val_loss: 4.3702 - val_accuracy: 0.6471\n",
      "Epoch 69/100\n",
      "7/7 [==============================] - 22s 3s/step - loss: 0.3011 - accuracy: 0.9265 - val_loss: 4.4690 - val_accuracy: 0.6176\n",
      "Epoch 70/100\n",
      "7/7 [==============================] - 22s 3s/step - loss: 0.2287 - accuracy: 0.9485 - val_loss: 4.1679 - val_accuracy: 0.6471\n",
      "Epoch 71/100\n",
      "7/7 [==============================] - 22s 3s/step - loss: 0.3272 - accuracy: 0.8750 - val_loss: 3.7139 - val_accuracy: 0.6471\n",
      "Epoch 72/100\n",
      "7/7 [==============================] - 22s 3s/step - loss: 0.2370 - accuracy: 0.9265 - val_loss: 4.3926 - val_accuracy: 0.6471\n",
      "Epoch 73/100\n",
      "7/7 [==============================] - 22s 3s/step - loss: 0.2254 - accuracy: 0.9265 - val_loss: 4.6087 - val_accuracy: 0.6471\n",
      "Epoch 74/100\n",
      "7/7 [==============================] - 19s 3s/step - loss: 0.1296 - accuracy: 0.9779 - val_loss: 5.0333 - val_accuracy: 0.6471\n",
      "Epoch 75/100\n",
      "7/7 [==============================] - 17s 3s/step - loss: 0.2071 - accuracy: 0.9412 - val_loss: 4.6785 - val_accuracy: 0.6176\n",
      "Epoch 76/100\n",
      "7/7 [==============================] - 20s 3s/step - loss: 0.2222 - accuracy: 0.9485 - val_loss: 4.3069 - val_accuracy: 0.6765\n",
      "Epoch 77/100\n",
      "7/7 [==============================] - 17s 2s/step - loss: 0.2054 - accuracy: 0.9485 - val_loss: 4.4039 - val_accuracy: 0.6471\n",
      "Epoch 78/100\n",
      "7/7 [==============================] - 14s 2s/step - loss: 0.2448 - accuracy: 0.9191 - val_loss: 4.9377 - val_accuracy: 0.6471\n",
      "Epoch 79/100\n",
      "7/7 [==============================] - 15s 2s/step - loss: 0.1847 - accuracy: 0.9265 - val_loss: 4.3506 - val_accuracy: 0.6765\n",
      "Epoch 80/100\n",
      "7/7 [==============================] - 16s 2s/step - loss: 0.2528 - accuracy: 0.9044 - val_loss: 3.8856 - val_accuracy: 0.6471\n",
      "Epoch 81/100\n",
      "7/7 [==============================] - 14s 2s/step - loss: 0.2253 - accuracy: 0.9338 - val_loss: 4.8376 - val_accuracy: 0.6471\n",
      "Epoch 82/100\n",
      "7/7 [==============================] - 14s 2s/step - loss: 0.1245 - accuracy: 0.9853 - val_loss: 4.8787 - val_accuracy: 0.6471\n",
      "Epoch 83/100\n",
      "7/7 [==============================] - 14s 2s/step - loss: 0.2933 - accuracy: 0.9118 - val_loss: 4.3869 - val_accuracy: 0.6471\n",
      "Epoch 84/100\n",
      "7/7 [==============================] - 14s 2s/step - loss: 0.2866 - accuracy: 0.9044 - val_loss: 4.5251 - val_accuracy: 0.6471\n",
      "Epoch 85/100\n",
      "7/7 [==============================] - 14s 2s/step - loss: 0.2089 - accuracy: 0.9412 - val_loss: 4.7242 - val_accuracy: 0.6471\n",
      "Epoch 86/100\n",
      "7/7 [==============================] - 14s 2s/step - loss: 0.1790 - accuracy: 0.9485 - val_loss: 4.6750 - val_accuracy: 0.6471\n",
      "Epoch 87/100\n",
      "7/7 [==============================] - 30s 5s/step - loss: 0.1456 - accuracy: 0.9485 - val_loss: 5.3068 - val_accuracy: 0.6176\n",
      "Epoch 88/100\n",
      "7/7 [==============================] - 21s 3s/step - loss: 0.2668 - accuracy: 0.8897 - val_loss: 4.3158 - val_accuracy: 0.6176\n",
      "Epoch 89/100\n",
      "7/7 [==============================] - 21s 3s/step - loss: 0.2056 - accuracy: 0.9265 - val_loss: 5.1646 - val_accuracy: 0.6765\n",
      "Epoch 90/100\n",
      "7/7 [==============================] - 21s 3s/step - loss: 0.2132 - accuracy: 0.9265 - val_loss: 4.3443 - val_accuracy: 0.6471\n",
      "Epoch 91/100\n",
      "7/7 [==============================] - 19s 3s/step - loss: 0.2164 - accuracy: 0.9044 - val_loss: 5.2327 - val_accuracy: 0.6471\n",
      "Epoch 92/100\n",
      "7/7 [==============================] - 20s 3s/step - loss: 0.1484 - accuracy: 0.9485 - val_loss: 6.0476 - val_accuracy: 0.5588\n",
      "Epoch 93/100\n",
      "7/7 [==============================] - 18s 3s/step - loss: 0.1495 - accuracy: 0.9632 - val_loss: 4.8960 - val_accuracy: 0.6765\n",
      "Epoch 94/100\n",
      "7/7 [==============================] - 30s 5s/step - loss: 0.1583 - accuracy: 0.9412 - val_loss: 4.5665 - val_accuracy: 0.6765\n",
      "Epoch 95/100\n",
      "7/7 [==============================] - 24s 4s/step - loss: 0.1368 - accuracy: 0.9632 - val_loss: 4.7406 - val_accuracy: 0.6471\n",
      "Epoch 96/100\n",
      "7/7 [==============================] - 26s 4s/step - loss: 0.1888 - accuracy: 0.9265 - val_loss: 4.8713 - val_accuracy: 0.6176\n",
      "Epoch 97/100\n",
      "7/7 [==============================] - 26s 4s/step - loss: 0.1107 - accuracy: 0.9706 - val_loss: 5.4199 - val_accuracy: 0.6471\n",
      "Epoch 98/100\n",
      "7/7 [==============================] - 24s 4s/step - loss: 0.1329 - accuracy: 0.9632 - val_loss: 4.9314 - val_accuracy: 0.6471\n",
      "Epoch 99/100\n",
      "7/7 [==============================] - 24s 4s/step - loss: 0.0910 - accuracy: 0.9926 - val_loss: 4.8172 - val_accuracy: 0.6765\n",
      "Epoch 100/100\n",
      "7/7 [==============================] - 23s 4s/step - loss: 0.2170 - accuracy: 0.9412 - val_loss: 4.3610 - val_accuracy: 0.6471\n"
     ]
    }
   ],
   "source": [
    "history = classifier.fit_generator(training_set, epochs =100,\n",
    "                                  validation_data=validation_set)"
   ]
  },
  {
   "cell_type": "code",
   "execution_count": 76,
   "id": "5c14f6a1",
   "metadata": {},
   "outputs": [],
   "source": [
    "#Displaying curves of loss and accuracy during training"
   ]
  },
  {
   "cell_type": "code",
   "execution_count": 77,
   "id": "b208c4af",
   "metadata": {},
   "outputs": [],
   "source": [
    "import matplotlib.pyplot as plt"
   ]
  },
  {
   "cell_type": "code",
   "execution_count": 78,
   "id": "661ff31e",
   "metadata": {},
   "outputs": [],
   "source": [
    "acc = history.history['accuracy']"
   ]
  },
  {
   "cell_type": "code",
   "execution_count": 79,
   "id": "fee6cad0",
   "metadata": {},
   "outputs": [],
   "source": [
    "val_acc = history.history['val_accuracy']"
   ]
  },
  {
   "cell_type": "code",
   "execution_count": 80,
   "id": "b81a782b",
   "metadata": {},
   "outputs": [],
   "source": [
    "loss = history.history['loss']"
   ]
  },
  {
   "cell_type": "code",
   "execution_count": 81,
   "id": "32a8ec9e",
   "metadata": {},
   "outputs": [],
   "source": [
    "val_loss = history.history['val_loss']"
   ]
  },
  {
   "cell_type": "code",
   "execution_count": 82,
   "id": "18374cbe",
   "metadata": {},
   "outputs": [],
   "source": [
    "epochs = range(1, len(acc) + 1)"
   ]
  },
  {
   "cell_type": "code",
   "execution_count": 83,
   "id": "9e1bc8ea",
   "metadata": {},
   "outputs": [
    {
     "data": {
      "text/plain": [
       "<Figure size 432x288 with 0 Axes>"
      ]
     },
     "execution_count": 83,
     "metadata": {},
     "output_type": "execute_result"
    },
    {
     "data": {
      "image/png": "[encoded data removed]",
      "text/plain": [
       "<Figure size 432x288 with 1 Axes>"
      ]
     },
     "metadata": {
      "needs_background": "light"
     },
     "output_type": "display_data"
    },
    {
     "data": {
      "text/plain": [
       "<Figure size 432x288 with 0 Axes>"
      ]
     },
     "metadata": {},
     "output_type": "display_data"
    }
   ],
   "source": [
    "plt.plot(epochs, acc, 'bo', label='Training acc')\n",
    "plt.plot(epochs, val_acc, 'g', label='Validation acc')\n",
    "plt.title('Training and validation accuracy')\n",
    "plt.legend()\n",
    "plt.figure()"
   ]
  },
  {
   "cell_type": "code",
   "execution_count": 84,
   "id": "b9a1412f",
   "metadata": {},
   "outputs": [
    {
     "data": {
      "text/plain": [
       "<Figure size 432x288 with 0 Axes>"
      ]
     },
     "execution_count": 84,
     "metadata": {},
     "output_type": "execute_result"
    },
    {
     "data": {
      "image/png": "[encoded data removed]",
      "text/plain": [
       "<Figure size 432x288 with 1 Axes>"
      ]
     },
     "metadata": {
      "needs_background": "light"
     },
     "output_type": "display_data"
    },
    {
     "data": {
      "text/plain": [
       "<Figure size 432x288 with 0 Axes>"
      ]
     },
     "metadata": {},
     "output_type": "display_data"
    }
   ],
   "source": [
    "plt.plot(epochs, loss, 'bo', label='Training loss')\n",
    "plt.plot(epochs, val_loss, 'g', label='Validation loss')\n",
    "plt.title('Training and validation loss')\n",
    "plt.legend()\n",
    "plt.figure()"
   ]
  },
  {
   "cell_type": "code",
   "execution_count": null,
   "id": "16f07878",
   "metadata": {},
   "outputs": [],
   "source": []
  }
 ],
 "metadata": {
  "kernelspec": {
   "display_name": "Python 3 (ipykernel)",
   "language": "python",
   "name": "python3"
  },
  "language_info": {
   "codemirror_mode": {
    "name": "ipython",
    "version": 3
   },
   "file_extension": ".py",
   "mimetype": "text/x-python",
   "name": "python",
   "nbconvert_exporter": "python",
   "pygments_lexer": "ipython3",
   "version": "3.9.7"
  }
 },
 "nbformat": 4,
 "nbformat_minor": 5
}
